{
 "cells": [
  {
   "cell_type": "markdown",
   "metadata": {},
   "source": [
    "### EXAMEN NLP \n",
    "\n",
    "### IA SCHOOL : 2020-2021"
   ]
  },
  {
   "cell_type": "markdown",
   "metadata": {},
   "source": [
    "| Prénoms       |     Nom         |   \n",
    "| ------------- |: -------------: |\n",
    "| Amadou lamarana      | DIALLO               |"
   ]
  },
  {
   "cell_type": "markdown",
   "metadata": {},
   "source": [
    "### 1 - On importe les libraires de bases"
   ]
  },
  {
   "cell_type": "code",
   "execution_count": 1,
   "metadata": {},
   "outputs": [
    {
     "name": "stdout",
     "output_type": "stream",
     "text": [
      "Requirement already satisfied: unidecode in /opt/anaconda3/lib/python3.8/site-packages (1.2.0)\n",
      "\u001b[33mWARNING: You are using pip version 21.2.2; however, version 21.2.4 is available.\n",
      "You should consider upgrading via the '/opt/anaconda3/bin/python -m pip install --upgrade pip' command.\u001b[0m\n"
     ]
    }
   ],
   "source": [
    "!pip install unidecode"
   ]
  },
  {
   "cell_type": "code",
   "execution_count": 8,
   "metadata": {},
   "outputs": [],
   "source": [
    "import requests\n",
    "from bs4 import BeautifulSoup\n",
    "import time\n",
    "import random\n",
    "import pandas as pd\n",
    "import re\n",
    "from unidecode import unidecode\n",
    "import pickle"
   ]
  },
  {
   "cell_type": "markdown",
   "metadata": {},
   "source": [
    "#### 2- Définitions du header des réquêtes .. obligatoire sinon Amazon la bloque"
   ]
  },
  {
   "cell_type": "code",
   "execution_count": 10,
   "metadata": {},
   "outputs": [],
   "source": [
    "header ={\n",
    "    \"accept\":'*/*',\n",
    "    \"user-agent\":'Mozilla/5.0 (Macintosh; Intel Mac OS X 10_15_7) AppleWebKit/537.36 (KHTML, like Gecko) Chrome/92.0.4515.131 Safari/537.36'\n",
    "}"
   ]
  },
  {
   "cell_type": "code",
   "execution_count": null,
   "metadata": {},
   "outputs": [],
   "source": []
  },
  {
   "cell_type": "markdown",
   "metadata": {},
   "source": [
    "#### 1) Définition de la fonction de recupération des commentaires du livre \"Les cinq blessures qui empêchent d'être soi-même\"\n",
    "\n",
    "#### lien: https://www.amazon.fr/cinq-blessures-emp%C3%AAchent-d%C3%AAtre-soi-m%C3%AAme/product-reviews/2266229486/ref=cm_cr_arp_d_paging_btm_2?ie=UTF8&pageNumber=1"
   ]
  },
  {
   "cell_type": "code",
   "execution_count": 4,
   "metadata": {},
   "outputs": [
    {
     "data": {
      "text/plain": [
       "'positive'"
      ]
     },
     "execution_count": 4,
     "metadata": {},
     "output_type": "execute_result"
    }
   ],
   "source": [
    "BASE_URL = 'https://www.amazon.fr/cinq-blessures-emp%C3%AAchent-d%C3%AAtre-soi-m%C3%AAme/product-reviews/2266229486/ref=cm_cr_arp_d_viewpnt_lft?ie=UTF8&reviewerType=all_reviews'\n",
    "url_positif = BASE_URL+'&filterByStar=positive'\n",
    "url_negatif = BASE_URL+'&filterByStar=critical'\n",
    "url_positif.split('=')[-1]"
   ]
  },
  {
   "cell_type": "code",
   "execution_count": 11,
   "metadata": {},
   "outputs": [],
   "source": [
    "def recuperer_commentaires():\n",
    "    \n",
    "    \"\"\"\n",
    "    Deux datasets sont stockés en local. positive.csv et critical.csv\n",
    "    \"\"\"\n",
    "    ## boucle sur les commentaires.. espérant récupéer au maximum\n",
    "    BASE_URL = 'https://www.amazon.fr/cinq-blessures-emp%C3%AAchent-d%C3%AAtre-soi-m%C3%AAme/product-reviews/2266229486/ref=cm_cr_arp_d_viewpnt_lft?ie=UTF8&reviewerType=all_reviews'\n",
    "    url_positif = BASE_URL+'&filterByStar=positive'\n",
    "    url_negatif = BASE_URL+'&filterByStar=critical'\n",
    "    url_positif.split('=')[-1]\n",
    "    for ul in [url_positif, url_negatif]:\n",
    "        #listes note et texte. \n",
    "        label, texte=[], []\n",
    "        for i in range(1,40):\n",
    "            time.sleep(random.uniform(0.5,1.5))\n",
    "            url = ul+\"&pageNumber={}\".format(str(i))\n",
    "            r = requests.get(url, headers=header)\n",
    "            soup = BeautifulSoup(r.content)\n",
    "            ## recuperer les notes.\n",
    "            for elem in soup.findAll('i',attrs={\"data-hook\":\"review-star-rating\"}):\n",
    "                label.append(elem.text.split(',')[0])\n",
    "\n",
    "            ## recuperer les textes\n",
    "            for elem in soup.findAll('span',attrs={\"data-hook\":\"review-body\"}):\n",
    "                texte.append(elem.text.strip())\n",
    "\n",
    "            ## verification des iterarions\n",
    "            print(\"iteration : \",i,\"/ longueur liste \",len(label),len(texte))\n",
    "\n",
    "            \"\"\"\n",
    "            verifications les longeurs des listes.  \n",
    "            et on se refère au minimum pour harmoniser les deux\n",
    "            \"\"\"\n",
    "            if (len(label),len(texte)) != (i*10,i*10):\n",
    "                \"\"\"\"\"\"\n",
    "                m=min(len(label),len(texte))\n",
    "                label=label[:m]\n",
    "                texte=texte[:m]\n",
    "                break\n",
    "            \"\"\"\n",
    "            ##Création du dataframe pour sauvegarder les données scrapées sur Amazon\n",
    "            \"\"\"\n",
    "            df = pd.DataFrame({\"commentaire\":texte,\"label\":label})\n",
    "            \n",
    "            \"\"\"nom du dataset\"\"\"\n",
    "            nom_dataset= ul.split('=')[-1]+'_new.csv' ## positve.csv| critique.csv\n",
    "            \"\"\"\n",
    "            Persistance des données sur un fichier qui est spécifié par le caractere positive ou critique du \n",
    "            lien comme nom du fichier au format csv\n",
    "            \"\"\"\n",
    "            df.to_csv(nom_dataset, index=False)\n",
    "            \n",
    "    return None"
   ]
  },
  {
   "cell_type": "code",
   "execution_count": 12,
   "metadata": {},
   "outputs": [
    {
     "name": "stdout",
     "output_type": "stream",
     "text": [
      "iteration :  1 / longueur liste  10 10\n",
      "iteration :  2 / longueur liste  20 20\n",
      "iteration :  3 / longueur liste  30 30\n",
      "iteration :  4 / longueur liste  40 40\n",
      "iteration :  5 / longueur liste  50 50\n",
      "iteration :  6 / longueur liste  60 60\n",
      "iteration :  7 / longueur liste  70 70\n",
      "iteration :  8 / longueur liste  80 80\n",
      "iteration :  9 / longueur liste  90 90\n",
      "iteration :  10 / longueur liste  100 100\n",
      "iteration :  11 / longueur liste  110 110\n",
      "iteration :  12 / longueur liste  120 120\n",
      "iteration :  13 / longueur liste  130 130\n",
      "iteration :  14 / longueur liste  140 140\n",
      "iteration :  15 / longueur liste  150 150\n",
      "iteration :  16 / longueur liste  160 160\n",
      "iteration :  17 / longueur liste  170 170\n",
      "iteration :  18 / longueur liste  180 180\n",
      "iteration :  19 / longueur liste  190 190\n",
      "iteration :  20 / longueur liste  200 200\n",
      "iteration :  21 / longueur liste  210 210\n",
      "iteration :  22 / longueur liste  220 220\n",
      "iteration :  23 / longueur liste  230 230\n",
      "iteration :  24 / longueur liste  240 240\n",
      "iteration :  25 / longueur liste  250 250\n",
      "iteration :  26 / longueur liste  260 260\n",
      "iteration :  27 / longueur liste  270 270\n",
      "iteration :  28 / longueur liste  280 280\n",
      "iteration :  29 / longueur liste  290 290\n",
      "iteration :  30 / longueur liste  300 300\n",
      "iteration :  31 / longueur liste  310 310\n",
      "iteration :  32 / longueur liste  320 320\n",
      "iteration :  33 / longueur liste  330 330\n",
      "iteration :  34 / longueur liste  340 340\n",
      "iteration :  35 / longueur liste  350 350\n",
      "iteration :  36 / longueur liste  360 360\n",
      "iteration :  37 / longueur liste  370 370\n",
      "iteration :  38 / longueur liste  380 380\n",
      "iteration :  39 / longueur liste  390 390\n",
      "iteration :  1 / longueur liste  10 10\n",
      "iteration :  2 / longueur liste  20 20\n",
      "iteration :  3 / longueur liste  30 30\n",
      "iteration :  4 / longueur liste  40 40\n",
      "iteration :  5 / longueur liste  50 50\n",
      "iteration :  6 / longueur liste  60 60\n",
      "iteration :  7 / longueur liste  70 70\n",
      "iteration :  8 / longueur liste  80 80\n",
      "iteration :  9 / longueur liste  90 90\n",
      "iteration :  10 / longueur liste  100 100\n",
      "iteration :  11 / longueur liste  110 110\n",
      "iteration :  12 / longueur liste  120 120\n",
      "iteration :  13 / longueur liste  130 130\n",
      "iteration :  14 / longueur liste  140 140\n",
      "iteration :  15 / longueur liste  150 150\n",
      "iteration :  16 / longueur liste  160 160\n",
      "iteration :  17 / longueur liste  170 170\n",
      "iteration :  18 / longueur liste  180 180\n",
      "iteration :  19 / longueur liste  190 190\n",
      "iteration :  20 / longueur liste  200 200\n",
      "iteration :  21 / longueur liste  210 210\n",
      "iteration :  22 / longueur liste  220 220\n",
      "iteration :  23 / longueur liste  230 230\n",
      "iteration :  24 / longueur liste  240 240\n",
      "iteration :  25 / longueur liste  250 250\n",
      "iteration :  26 / longueur liste  260 260\n",
      "iteration :  27 / longueur liste  270 270\n",
      "iteration :  28 / longueur liste  275 280\n"
     ]
    }
   ],
   "source": [
    "### 3- Récuperer les données des fichiers positive.csv et critique.csv.\n",
    "\n",
    "recuperer_commentaires()"
   ]
  },
  {
   "cell_type": "markdown",
   "metadata": {},
   "source": [
    "#### 1) Lecture du fichier enregistré"
   ]
  },
  {
   "cell_type": "code",
   "execution_count": 28,
   "metadata": {},
   "outputs": [],
   "source": [
    "df_positif = pd.read_csv(\"positive_new.csv\", engine='python')"
   ]
  },
  {
   "cell_type": "code",
   "execution_count": 29,
   "metadata": {},
   "outputs": [
    {
     "data": {
      "text/html": [
       "<div>\n",
       "<style scoped>\n",
       "    .dataframe tbody tr th:only-of-type {\n",
       "        vertical-align: middle;\n",
       "    }\n",
       "\n",
       "    .dataframe tbody tr th {\n",
       "        vertical-align: top;\n",
       "    }\n",
       "\n",
       "    .dataframe thead th {\n",
       "        text-align: right;\n",
       "    }\n",
       "</style>\n",
       "<table border=\"1\" class=\"dataframe\">\n",
       "  <thead>\n",
       "    <tr style=\"text-align: right;\">\n",
       "      <th></th>\n",
       "      <th>commentaire</th>\n",
       "      <th>label</th>\n",
       "    </tr>\n",
       "  </thead>\n",
       "  <tbody>\n",
       "    <tr>\n",
       "      <th>0</th>\n",
       "      <td>Lise Bourbeau, l'auteur de ces Cinq blessures ...</td>\n",
       "      <td>4</td>\n",
       "    </tr>\n",
       "    <tr>\n",
       "      <th>1</th>\n",
       "      <td>Ce livre est une révélation. Je n’au Jamais pu...</td>\n",
       "      <td>5</td>\n",
       "    </tr>\n",
       "    <tr>\n",
       "      <th>2</th>\n",
       "      <td>livre parfait pour commencer à se connaître et...</td>\n",
       "      <td>5</td>\n",
       "    </tr>\n",
       "    <tr>\n",
       "      <th>3</th>\n",
       "      <td>Si effectivement vous n’avez aucune connaissan...</td>\n",
       "      <td>4</td>\n",
       "    </tr>\n",
       "    <tr>\n",
       "      <th>4</th>\n",
       "      <td>Alors ok il est vrai que je me suis reconnue d...</td>\n",
       "      <td>4</td>\n",
       "    </tr>\n",
       "    <tr>\n",
       "      <th>...</th>\n",
       "      <td>...</td>\n",
       "      <td>...</td>\n",
       "    </tr>\n",
       "    <tr>\n",
       "      <th>385</th>\n",
       "      <td>Super bouquin</td>\n",
       "      <td>5</td>\n",
       "    </tr>\n",
       "    <tr>\n",
       "      <th>386</th>\n",
       "      <td>j'aime beaucoup cet ouvrage il apporte beaucou...</td>\n",
       "      <td>5</td>\n",
       "    </tr>\n",
       "    <tr>\n",
       "      <th>387</th>\n",
       "      <td>Top</td>\n",
       "      <td>5</td>\n",
       "    </tr>\n",
       "    <tr>\n",
       "      <th>388</th>\n",
       "      <td>J'ai beaucoup aimé ce livre et je le partage e...</td>\n",
       "      <td>5</td>\n",
       "    </tr>\n",
       "    <tr>\n",
       "      <th>389</th>\n",
       "      <td>Pour ceux qui cherchent pourquoi ils sont sur ...</td>\n",
       "      <td>5</td>\n",
       "    </tr>\n",
       "  </tbody>\n",
       "</table>\n",
       "<p>390 rows × 2 columns</p>\n",
       "</div>"
      ],
      "text/plain": [
       "                                           commentaire  label\n",
       "0    Lise Bourbeau, l'auteur de ces Cinq blessures ...      4\n",
       "1    Ce livre est une révélation. Je n’au Jamais pu...      5\n",
       "2    livre parfait pour commencer à se connaître et...      5\n",
       "3    Si effectivement vous n’avez aucune connaissan...      4\n",
       "4    Alors ok il est vrai que je me suis reconnue d...      4\n",
       "..                                                 ...    ...\n",
       "385                                      Super bouquin      5\n",
       "386  j'aime beaucoup cet ouvrage il apporte beaucou...      5\n",
       "387                                                Top      5\n",
       "388  J'ai beaucoup aimé ce livre et je le partage e...      5\n",
       "389  Pour ceux qui cherchent pourquoi ils sont sur ...      5\n",
       "\n",
       "[390 rows x 2 columns]"
      ]
     },
     "execution_count": 29,
     "metadata": {},
     "output_type": "execute_result"
    }
   ],
   "source": [
    "df_positif[df_positif.label>3]"
   ]
  },
  {
   "cell_type": "code",
   "execution_count": 30,
   "metadata": {},
   "outputs": [],
   "source": [
    "df_negatif = pd.read_csv('critical_new.csv', engine='python')"
   ]
  },
  {
   "cell_type": "code",
   "execution_count": 31,
   "metadata": {},
   "outputs": [
    {
     "data": {
      "text/html": [
       "<div>\n",
       "<style scoped>\n",
       "    .dataframe tbody tr th:only-of-type {\n",
       "        vertical-align: middle;\n",
       "    }\n",
       "\n",
       "    .dataframe tbody tr th {\n",
       "        vertical-align: top;\n",
       "    }\n",
       "\n",
       "    .dataframe thead th {\n",
       "        text-align: right;\n",
       "    }\n",
       "</style>\n",
       "<table border=\"1\" class=\"dataframe\">\n",
       "  <thead>\n",
       "    <tr style=\"text-align: right;\">\n",
       "      <th></th>\n",
       "      <th>commentaire</th>\n",
       "      <th>label</th>\n",
       "    </tr>\n",
       "  </thead>\n",
       "  <tbody>\n",
       "    <tr>\n",
       "      <th>0</th>\n",
       "      <td>Franchement, je me suis arrêté au chapitre 1. ...</td>\n",
       "      <td>1</td>\n",
       "    </tr>\n",
       "    <tr>\n",
       "      <th>1</th>\n",
       "      <td>Un livre à l'américaine qui fait très secte ! ...</td>\n",
       "      <td>1</td>\n",
       "    </tr>\n",
       "    <tr>\n",
       "      <th>2</th>\n",
       "      <td>Un peu déçue...Lise Bourbeau décrit les \"5 ble...</td>\n",
       "      <td>2</td>\n",
       "    </tr>\n",
       "    <tr>\n",
       "      <th>3</th>\n",
       "      <td>Le contenu de ce livre est complètement délira...</td>\n",
       "      <td>1</td>\n",
       "    </tr>\n",
       "    <tr>\n",
       "      <th>4</th>\n",
       "      <td>J'ai trouvé le thème du livre intéressant mais...</td>\n",
       "      <td>1</td>\n",
       "    </tr>\n",
       "    <tr>\n",
       "      <th>...</th>\n",
       "      <td>...</td>\n",
       "      <td>...</td>\n",
       "    </tr>\n",
       "    <tr>\n",
       "      <th>264</th>\n",
       "      <td>Ce livre est une honte. De la psychologie de b...</td>\n",
       "      <td>1</td>\n",
       "    </tr>\n",
       "    <tr>\n",
       "      <th>265</th>\n",
       "      <td>Quelle déception.On me l'a recommandé, j'achèt...</td>\n",
       "      <td>1</td>\n",
       "    </tr>\n",
       "    <tr>\n",
       "      <th>266</th>\n",
       "      <td>S'éduisant d'imaginer que notre physique révèl...</td>\n",
       "      <td>1</td>\n",
       "    </tr>\n",
       "    <tr>\n",
       "      <th>267</th>\n",
       "      <td>chacun son avis...pour ma part je n'aime deja ...</td>\n",
       "      <td>1</td>\n",
       "    </tr>\n",
       "    <tr>\n",
       "      <th>268</th>\n",
       "      <td>Je ne sais pas quelle formation a l'auteure, m...</td>\n",
       "      <td>1</td>\n",
       "    </tr>\n",
       "  </tbody>\n",
       "</table>\n",
       "<p>175 rows × 2 columns</p>\n",
       "</div>"
      ],
      "text/plain": [
       "                                           commentaire  label\n",
       "0    Franchement, je me suis arrêté au chapitre 1. ...      1\n",
       "1    Un livre à l'américaine qui fait très secte ! ...      1\n",
       "2    Un peu déçue...Lise Bourbeau décrit les \"5 ble...      2\n",
       "3    Le contenu de ce livre est complètement délira...      1\n",
       "4    J'ai trouvé le thème du livre intéressant mais...      1\n",
       "..                                                 ...    ...\n",
       "264  Ce livre est une honte. De la psychologie de b...      1\n",
       "265  Quelle déception.On me l'a recommandé, j'achèt...      1\n",
       "266  S'éduisant d'imaginer que notre physique révèl...      1\n",
       "267  chacun son avis...pour ma part je n'aime deja ...      1\n",
       "268  Je ne sais pas quelle formation a l'auteure, m...      1\n",
       "\n",
       "[175 rows x 2 columns]"
      ]
     },
     "execution_count": 31,
     "metadata": {},
     "output_type": "execute_result"
    }
   ],
   "source": [
    "df_negatif[df_negatif.label <3]"
   ]
  },
  {
   "cell_type": "code",
   "execution_count": 32,
   "metadata": {},
   "outputs": [],
   "source": [
    "df_positif.dropna(inplace=True)\n",
    "df_negatif.dropna(inplace=True)"
   ]
  },
  {
   "cell_type": "code",
   "execution_count": 18,
   "metadata": {},
   "outputs": [
    {
     "data": {
      "text/html": [
       "<div>\n",
       "<style scoped>\n",
       "    .dataframe tbody tr th:only-of-type {\n",
       "        vertical-align: middle;\n",
       "    }\n",
       "\n",
       "    .dataframe tbody tr th {\n",
       "        vertical-align: top;\n",
       "    }\n",
       "\n",
       "    .dataframe thead th {\n",
       "        text-align: right;\n",
       "    }\n",
       "</style>\n",
       "<table border=\"1\" class=\"dataframe\">\n",
       "  <thead>\n",
       "    <tr style=\"text-align: right;\">\n",
       "      <th></th>\n",
       "      <th>commentaire</th>\n",
       "      <th>label</th>\n",
       "    </tr>\n",
       "  </thead>\n",
       "  <tbody>\n",
       "    <tr>\n",
       "      <th>0</th>\n",
       "      <td>Franchement, je me suis arrêté au chapitre 1. ...</td>\n",
       "      <td>1</td>\n",
       "    </tr>\n",
       "    <tr>\n",
       "      <th>1</th>\n",
       "      <td>Un livre à l'américaine qui fait très secte ! ...</td>\n",
       "      <td>1</td>\n",
       "    </tr>\n",
       "    <tr>\n",
       "      <th>2</th>\n",
       "      <td>Un peu déçue...Lise Bourbeau décrit les \"5 ble...</td>\n",
       "      <td>2</td>\n",
       "    </tr>\n",
       "    <tr>\n",
       "      <th>3</th>\n",
       "      <td>Le contenu de ce livre est complètement délira...</td>\n",
       "      <td>1</td>\n",
       "    </tr>\n",
       "    <tr>\n",
       "      <th>4</th>\n",
       "      <td>J'ai trouvé le thème du livre intéressant mais...</td>\n",
       "      <td>1</td>\n",
       "    </tr>\n",
       "    <tr>\n",
       "      <th>...</th>\n",
       "      <td>...</td>\n",
       "      <td>...</td>\n",
       "    </tr>\n",
       "    <tr>\n",
       "      <th>265</th>\n",
       "      <td>Quelle déception.On me l'a recommandé, j'achèt...</td>\n",
       "      <td>1</td>\n",
       "    </tr>\n",
       "    <tr>\n",
       "      <th>266</th>\n",
       "      <td>S'éduisant d'imaginer que notre physique révèl...</td>\n",
       "      <td>1</td>\n",
       "    </tr>\n",
       "    <tr>\n",
       "      <th>267</th>\n",
       "      <td>chacun son avis...pour ma part je n'aime deja ...</td>\n",
       "      <td>1</td>\n",
       "    </tr>\n",
       "    <tr>\n",
       "      <th>268</th>\n",
       "      <td>Je ne sais pas quelle formation a l'auteure, m...</td>\n",
       "      <td>1</td>\n",
       "    </tr>\n",
       "    <tr>\n",
       "      <th>269</th>\n",
       "      <td>livre intéressant ou chacun trouvera des infor...</td>\n",
       "      <td>3</td>\n",
       "    </tr>\n",
       "  </tbody>\n",
       "</table>\n",
       "<p>270 rows × 2 columns</p>\n",
       "</div>"
      ],
      "text/plain": [
       "                                           commentaire  label\n",
       "0    Franchement, je me suis arrêté au chapitre 1. ...      1\n",
       "1    Un livre à l'américaine qui fait très secte ! ...      1\n",
       "2    Un peu déçue...Lise Bourbeau décrit les \"5 ble...      2\n",
       "3    Le contenu de ce livre est complètement délira...      1\n",
       "4    J'ai trouvé le thème du livre intéressant mais...      1\n",
       "..                                                 ...    ...\n",
       "265  Quelle déception.On me l'a recommandé, j'achèt...      1\n",
       "266  S'éduisant d'imaginer que notre physique révèl...      1\n",
       "267  chacun son avis...pour ma part je n'aime deja ...      1\n",
       "268  Je ne sais pas quelle formation a l'auteure, m...      1\n",
       "269  livre intéressant ou chacun trouvera des infor...      3\n",
       "\n",
       "[270 rows x 2 columns]"
      ]
     },
     "execution_count": 18,
     "metadata": {},
     "output_type": "execute_result"
    }
   ],
   "source": [
    "df_negatif"
   ]
  },
  {
   "cell_type": "markdown",
   "metadata": {},
   "source": [
    "#### 2) Convertir la colonne note en entier"
   ]
  },
  {
   "cell_type": "code",
   "execution_count": 33,
   "metadata": {},
   "outputs": [],
   "source": [
    "df_negatif.label = df_negatif.label.astype(int)\n",
    "df_positif.label = df_positif.label.astype(int)"
   ]
  },
  {
   "cell_type": "markdown",
   "metadata": {},
   "source": [
    "#### 3 - Fonction de calcul de la longueur du commentaire (nombre de mot)"
   ]
  },
  {
   "cell_type": "code",
   "execution_count": 34,
   "metadata": {},
   "outputs": [],
   "source": [
    "## Supprimer les messages ne contenant plus de 15 mots..\n",
    "def nombre_mot_commentaire(comment):\n",
    "    \"\"\"\n",
    "    input : commentaire \n",
    "    output: nombre de mot du commentaire\n",
    "    \"\"\"\n",
    "    \n",
    "    return len (comment.split(' '))"
   ]
  },
  {
   "cell_type": "code",
   "execution_count": 111,
   "metadata": {},
   "outputs": [],
   "source": []
  },
  {
   "cell_type": "markdown",
   "metadata": {},
   "source": [
    "#### Nous ne gardons que les commentaires contenant plus de 10 mots"
   ]
  },
  {
   "cell_type": "code",
   "execution_count": 35,
   "metadata": {},
   "outputs": [],
   "source": [
    "df_negatif['longueur'] = df_negatif.commentaire.apply(nombre_mot_commentaire)\n",
    "df_positif['longueur'] = df_positif.commentaire.apply(nombre_mot_commentaire)"
   ]
  },
  {
   "cell_type": "code",
   "execution_count": 36,
   "metadata": {},
   "outputs": [
    {
     "data": {
      "text/html": [
       "<div>\n",
       "<style scoped>\n",
       "    .dataframe tbody tr th:only-of-type {\n",
       "        vertical-align: middle;\n",
       "    }\n",
       "\n",
       "    .dataframe tbody tr th {\n",
       "        vertical-align: top;\n",
       "    }\n",
       "\n",
       "    .dataframe thead th {\n",
       "        text-align: right;\n",
       "    }\n",
       "</style>\n",
       "<table border=\"1\" class=\"dataframe\">\n",
       "  <thead>\n",
       "    <tr style=\"text-align: right;\">\n",
       "      <th></th>\n",
       "      <th>commentaire</th>\n",
       "      <th>label</th>\n",
       "      <th>longueur</th>\n",
       "    </tr>\n",
       "  </thead>\n",
       "  <tbody>\n",
       "    <tr>\n",
       "      <th>0</th>\n",
       "      <td>Lise Bourbeau, l'auteur de ces Cinq blessures ...</td>\n",
       "      <td>4</td>\n",
       "      <td>248</td>\n",
       "    </tr>\n",
       "    <tr>\n",
       "      <th>1</th>\n",
       "      <td>Ce livre est une révélation. Je n’au Jamais pu...</td>\n",
       "      <td>5</td>\n",
       "      <td>41</td>\n",
       "    </tr>\n",
       "    <tr>\n",
       "      <th>2</th>\n",
       "      <td>livre parfait pour commencer à se connaître et...</td>\n",
       "      <td>5</td>\n",
       "      <td>60</td>\n",
       "    </tr>\n",
       "    <tr>\n",
       "      <th>3</th>\n",
       "      <td>Si effectivement vous n’avez aucune connaissan...</td>\n",
       "      <td>4</td>\n",
       "      <td>168</td>\n",
       "    </tr>\n",
       "    <tr>\n",
       "      <th>4</th>\n",
       "      <td>Alors ok il est vrai que je me suis reconnue d...</td>\n",
       "      <td>4</td>\n",
       "      <td>105</td>\n",
       "    </tr>\n",
       "    <tr>\n",
       "      <th>...</th>\n",
       "      <td>...</td>\n",
       "      <td>...</td>\n",
       "      <td>...</td>\n",
       "    </tr>\n",
       "    <tr>\n",
       "      <th>385</th>\n",
       "      <td>Super bouquin</td>\n",
       "      <td>5</td>\n",
       "      <td>2</td>\n",
       "    </tr>\n",
       "    <tr>\n",
       "      <th>386</th>\n",
       "      <td>j'aime beaucoup cet ouvrage il apporte beaucou...</td>\n",
       "      <td>5</td>\n",
       "      <td>21</td>\n",
       "    </tr>\n",
       "    <tr>\n",
       "      <th>387</th>\n",
       "      <td>Top</td>\n",
       "      <td>5</td>\n",
       "      <td>1</td>\n",
       "    </tr>\n",
       "    <tr>\n",
       "      <th>388</th>\n",
       "      <td>J'ai beaucoup aimé ce livre et je le partage e...</td>\n",
       "      <td>5</td>\n",
       "      <td>89</td>\n",
       "    </tr>\n",
       "    <tr>\n",
       "      <th>389</th>\n",
       "      <td>Pour ceux qui cherchent pourquoi ils sont sur ...</td>\n",
       "      <td>5</td>\n",
       "      <td>22</td>\n",
       "    </tr>\n",
       "  </tbody>\n",
       "</table>\n",
       "<p>390 rows × 3 columns</p>\n",
       "</div>"
      ],
      "text/plain": [
       "                                           commentaire  label  longueur\n",
       "0    Lise Bourbeau, l'auteur de ces Cinq blessures ...      4       248\n",
       "1    Ce livre est une révélation. Je n’au Jamais pu...      5        41\n",
       "2    livre parfait pour commencer à se connaître et...      5        60\n",
       "3    Si effectivement vous n’avez aucune connaissan...      4       168\n",
       "4    Alors ok il est vrai que je me suis reconnue d...      4       105\n",
       "..                                                 ...    ...       ...\n",
       "385                                      Super bouquin      5         2\n",
       "386  j'aime beaucoup cet ouvrage il apporte beaucou...      5        21\n",
       "387                                                Top      5         1\n",
       "388  J'ai beaucoup aimé ce livre et je le partage e...      5        89\n",
       "389  Pour ceux qui cherchent pourquoi ils sont sur ...      5        22\n",
       "\n",
       "[390 rows x 3 columns]"
      ]
     },
     "execution_count": 36,
     "metadata": {},
     "output_type": "execute_result"
    }
   ],
   "source": [
    "df_positif"
   ]
  },
  {
   "cell_type": "code",
   "execution_count": 37,
   "metadata": {},
   "outputs": [],
   "source": [
    "df_negatif = df_negatif[df_negatif.longueur>15]\n",
    "df_positif = df_positif[df_positif.longueur>15]"
   ]
  },
  {
   "cell_type": "code",
   "execution_count": 38,
   "metadata": {},
   "outputs": [
    {
     "data": {
      "text/html": [
       "<div>\n",
       "<style scoped>\n",
       "    .dataframe tbody tr th:only-of-type {\n",
       "        vertical-align: middle;\n",
       "    }\n",
       "\n",
       "    .dataframe tbody tr th {\n",
       "        vertical-align: top;\n",
       "    }\n",
       "\n",
       "    .dataframe thead th {\n",
       "        text-align: right;\n",
       "    }\n",
       "</style>\n",
       "<table border=\"1\" class=\"dataframe\">\n",
       "  <thead>\n",
       "    <tr style=\"text-align: right;\">\n",
       "      <th></th>\n",
       "      <th>commentaire</th>\n",
       "      <th>label</th>\n",
       "      <th>longueur</th>\n",
       "    </tr>\n",
       "  </thead>\n",
       "  <tbody>\n",
       "    <tr>\n",
       "      <th>0</th>\n",
       "      <td>Lise Bourbeau, l'auteur de ces Cinq blessures ...</td>\n",
       "      <td>4</td>\n",
       "      <td>248</td>\n",
       "    </tr>\n",
       "    <tr>\n",
       "      <th>1</th>\n",
       "      <td>Ce livre est une révélation. Je n’au Jamais pu...</td>\n",
       "      <td>5</td>\n",
       "      <td>41</td>\n",
       "    </tr>\n",
       "    <tr>\n",
       "      <th>2</th>\n",
       "      <td>livre parfait pour commencer à se connaître et...</td>\n",
       "      <td>5</td>\n",
       "      <td>60</td>\n",
       "    </tr>\n",
       "    <tr>\n",
       "      <th>3</th>\n",
       "      <td>Si effectivement vous n’avez aucune connaissan...</td>\n",
       "      <td>4</td>\n",
       "      <td>168</td>\n",
       "    </tr>\n",
       "    <tr>\n",
       "      <th>4</th>\n",
       "      <td>Alors ok il est vrai que je me suis reconnue d...</td>\n",
       "      <td>4</td>\n",
       "      <td>105</td>\n",
       "    </tr>\n",
       "    <tr>\n",
       "      <th>...</th>\n",
       "      <td>...</td>\n",
       "      <td>...</td>\n",
       "      <td>...</td>\n",
       "    </tr>\n",
       "    <tr>\n",
       "      <th>379</th>\n",
       "      <td>Très bon livre. Simple et à la portée de tous....</td>\n",
       "      <td>5</td>\n",
       "      <td>27</td>\n",
       "    </tr>\n",
       "    <tr>\n",
       "      <th>383</th>\n",
       "      <td>Ai eu que le temps de le parcourir, j'ai trouv...</td>\n",
       "      <td>5</td>\n",
       "      <td>77</td>\n",
       "    </tr>\n",
       "    <tr>\n",
       "      <th>386</th>\n",
       "      <td>j'aime beaucoup cet ouvrage il apporte beaucou...</td>\n",
       "      <td>5</td>\n",
       "      <td>21</td>\n",
       "    </tr>\n",
       "    <tr>\n",
       "      <th>388</th>\n",
       "      <td>J'ai beaucoup aimé ce livre et je le partage e...</td>\n",
       "      <td>5</td>\n",
       "      <td>89</td>\n",
       "    </tr>\n",
       "    <tr>\n",
       "      <th>389</th>\n",
       "      <td>Pour ceux qui cherchent pourquoi ils sont sur ...</td>\n",
       "      <td>5</td>\n",
       "      <td>22</td>\n",
       "    </tr>\n",
       "  </tbody>\n",
       "</table>\n",
       "<p>248 rows × 3 columns</p>\n",
       "</div>"
      ],
      "text/plain": [
       "                                           commentaire  label  longueur\n",
       "0    Lise Bourbeau, l'auteur de ces Cinq blessures ...      4       248\n",
       "1    Ce livre est une révélation. Je n’au Jamais pu...      5        41\n",
       "2    livre parfait pour commencer à se connaître et...      5        60\n",
       "3    Si effectivement vous n’avez aucune connaissan...      4       168\n",
       "4    Alors ok il est vrai que je me suis reconnue d...      4       105\n",
       "..                                                 ...    ...       ...\n",
       "379  Très bon livre. Simple et à la portée de tous....      5        27\n",
       "383  Ai eu que le temps de le parcourir, j'ai trouv...      5        77\n",
       "386  j'aime beaucoup cet ouvrage il apporte beaucou...      5        21\n",
       "388  J'ai beaucoup aimé ce livre et je le partage e...      5        89\n",
       "389  Pour ceux qui cherchent pourquoi ils sont sur ...      5        22\n",
       "\n",
       "[248 rows x 3 columns]"
      ]
     },
     "execution_count": 38,
     "metadata": {},
     "output_type": "execute_result"
    }
   ],
   "source": [
    "df_positif"
   ]
  },
  {
   "cell_type": "markdown",
   "metadata": {},
   "source": [
    "    3)Choisir 160 commentaires positifs et 160 commentaires négatifs"
   ]
  },
  {
   "cell_type": "code",
   "execution_count": 39,
   "metadata": {},
   "outputs": [
    {
     "name": "stderr",
     "output_type": "stream",
     "text": [
      "/opt/anaconda3/lib/python3.8/site-packages/pandas/core/frame.py:4308: SettingWithCopyWarning: \n",
      "A value is trying to be set on a copy of a slice from a DataFrame\n",
      "\n",
      "See the caveats in the documentation: https://pandas.pydata.org/pandas-docs/stable/user_guide/indexing.html#returning-a-view-versus-a-copy\n",
      "  return super().drop(\n"
     ]
    }
   ],
   "source": [
    "df_negatif.drop(['longueur'], axis=1, inplace=True)\n",
    "df_positif.drop(['longueur'], axis=1, inplace=True)\n"
   ]
  },
  {
   "cell_type": "code",
   "execution_count": 40,
   "metadata": {},
   "outputs": [
    {
     "data": {
      "text/html": [
       "<div>\n",
       "<style scoped>\n",
       "    .dataframe tbody tr th:only-of-type {\n",
       "        vertical-align: middle;\n",
       "    }\n",
       "\n",
       "    .dataframe tbody tr th {\n",
       "        vertical-align: top;\n",
       "    }\n",
       "\n",
       "    .dataframe thead th {\n",
       "        text-align: right;\n",
       "    }\n",
       "</style>\n",
       "<table border=\"1\" class=\"dataframe\">\n",
       "  <thead>\n",
       "    <tr style=\"text-align: right;\">\n",
       "      <th></th>\n",
       "      <th>commentaire</th>\n",
       "      <th>label</th>\n",
       "    </tr>\n",
       "  </thead>\n",
       "  <tbody>\n",
       "    <tr>\n",
       "      <th>0</th>\n",
       "      <td>Franchement, je me suis arrêté au chapitre 1. ...</td>\n",
       "      <td>1</td>\n",
       "    </tr>\n",
       "    <tr>\n",
       "      <th>1</th>\n",
       "      <td>Un livre à l'américaine qui fait très secte ! ...</td>\n",
       "      <td>1</td>\n",
       "    </tr>\n",
       "    <tr>\n",
       "      <th>2</th>\n",
       "      <td>Un peu déçue...Lise Bourbeau décrit les \"5 ble...</td>\n",
       "      <td>2</td>\n",
       "    </tr>\n",
       "    <tr>\n",
       "      <th>3</th>\n",
       "      <td>Le contenu de ce livre est complètement délira...</td>\n",
       "      <td>1</td>\n",
       "    </tr>\n",
       "    <tr>\n",
       "      <th>4</th>\n",
       "      <td>J'ai trouvé le thème du livre intéressant mais...</td>\n",
       "      <td>1</td>\n",
       "    </tr>\n",
       "    <tr>\n",
       "      <th>...</th>\n",
       "      <td>...</td>\n",
       "      <td>...</td>\n",
       "    </tr>\n",
       "    <tr>\n",
       "      <th>265</th>\n",
       "      <td>Quelle déception.On me l'a recommandé, j'achèt...</td>\n",
       "      <td>1</td>\n",
       "    </tr>\n",
       "    <tr>\n",
       "      <th>266</th>\n",
       "      <td>S'éduisant d'imaginer que notre physique révèl...</td>\n",
       "      <td>1</td>\n",
       "    </tr>\n",
       "    <tr>\n",
       "      <th>267</th>\n",
       "      <td>chacun son avis...pour ma part je n'aime deja ...</td>\n",
       "      <td>1</td>\n",
       "    </tr>\n",
       "    <tr>\n",
       "      <th>268</th>\n",
       "      <td>Je ne sais pas quelle formation a l'auteure, m...</td>\n",
       "      <td>1</td>\n",
       "    </tr>\n",
       "    <tr>\n",
       "      <th>269</th>\n",
       "      <td>livre intéressant ou chacun trouvera des infor...</td>\n",
       "      <td>3</td>\n",
       "    </tr>\n",
       "  </tbody>\n",
       "</table>\n",
       "<p>250 rows × 2 columns</p>\n",
       "</div>"
      ],
      "text/plain": [
       "                                           commentaire  label\n",
       "0    Franchement, je me suis arrêté au chapitre 1. ...      1\n",
       "1    Un livre à l'américaine qui fait très secte ! ...      1\n",
       "2    Un peu déçue...Lise Bourbeau décrit les \"5 ble...      2\n",
       "3    Le contenu de ce livre est complètement délira...      1\n",
       "4    J'ai trouvé le thème du livre intéressant mais...      1\n",
       "..                                                 ...    ...\n",
       "265  Quelle déception.On me l'a recommandé, j'achèt...      1\n",
       "266  S'éduisant d'imaginer que notre physique révèl...      1\n",
       "267  chacun son avis...pour ma part je n'aime deja ...      1\n",
       "268  Je ne sais pas quelle formation a l'auteure, m...      1\n",
       "269  livre intéressant ou chacun trouvera des infor...      3\n",
       "\n",
       "[250 rows x 2 columns]"
      ]
     },
     "execution_count": 40,
     "metadata": {},
     "output_type": "execute_result"
    }
   ],
   "source": [
    "df_negatif"
   ]
  },
  {
   "cell_type": "code",
   "execution_count": 41,
   "metadata": {},
   "outputs": [],
   "source": [
    "df_negatif = df_negatif[df_negatif.label <3]\n",
    "df_positif = df_positif[df_positif.label >3]"
   ]
  },
  {
   "cell_type": "code",
   "execution_count": 42,
   "metadata": {},
   "outputs": [
    {
     "data": {
      "text/html": [
       "<div>\n",
       "<style scoped>\n",
       "    .dataframe tbody tr th:only-of-type {\n",
       "        vertical-align: middle;\n",
       "    }\n",
       "\n",
       "    .dataframe tbody tr th {\n",
       "        vertical-align: top;\n",
       "    }\n",
       "\n",
       "    .dataframe thead th {\n",
       "        text-align: right;\n",
       "    }\n",
       "</style>\n",
       "<table border=\"1\" class=\"dataframe\">\n",
       "  <thead>\n",
       "    <tr style=\"text-align: right;\">\n",
       "      <th></th>\n",
       "      <th>commentaire</th>\n",
       "      <th>label</th>\n",
       "    </tr>\n",
       "  </thead>\n",
       "  <tbody>\n",
       "    <tr>\n",
       "      <th>0</th>\n",
       "      <td>Lise Bourbeau, l'auteur de ces Cinq blessures ...</td>\n",
       "      <td>4</td>\n",
       "    </tr>\n",
       "    <tr>\n",
       "      <th>1</th>\n",
       "      <td>Ce livre est une révélation. Je n’au Jamais pu...</td>\n",
       "      <td>5</td>\n",
       "    </tr>\n",
       "    <tr>\n",
       "      <th>2</th>\n",
       "      <td>livre parfait pour commencer à se connaître et...</td>\n",
       "      <td>5</td>\n",
       "    </tr>\n",
       "    <tr>\n",
       "      <th>3</th>\n",
       "      <td>Si effectivement vous n’avez aucune connaissan...</td>\n",
       "      <td>4</td>\n",
       "    </tr>\n",
       "    <tr>\n",
       "      <th>4</th>\n",
       "      <td>Alors ok il est vrai que je me suis reconnue d...</td>\n",
       "      <td>4</td>\n",
       "    </tr>\n",
       "    <tr>\n",
       "      <th>...</th>\n",
       "      <td>...</td>\n",
       "      <td>...</td>\n",
       "    </tr>\n",
       "    <tr>\n",
       "      <th>379</th>\n",
       "      <td>Très bon livre. Simple et à la portée de tous....</td>\n",
       "      <td>5</td>\n",
       "    </tr>\n",
       "    <tr>\n",
       "      <th>383</th>\n",
       "      <td>Ai eu que le temps de le parcourir, j'ai trouv...</td>\n",
       "      <td>5</td>\n",
       "    </tr>\n",
       "    <tr>\n",
       "      <th>386</th>\n",
       "      <td>j'aime beaucoup cet ouvrage il apporte beaucou...</td>\n",
       "      <td>5</td>\n",
       "    </tr>\n",
       "    <tr>\n",
       "      <th>388</th>\n",
       "      <td>J'ai beaucoup aimé ce livre et je le partage e...</td>\n",
       "      <td>5</td>\n",
       "    </tr>\n",
       "    <tr>\n",
       "      <th>389</th>\n",
       "      <td>Pour ceux qui cherchent pourquoi ils sont sur ...</td>\n",
       "      <td>5</td>\n",
       "    </tr>\n",
       "  </tbody>\n",
       "</table>\n",
       "<p>248 rows × 2 columns</p>\n",
       "</div>"
      ],
      "text/plain": [
       "                                           commentaire  label\n",
       "0    Lise Bourbeau, l'auteur de ces Cinq blessures ...      4\n",
       "1    Ce livre est une révélation. Je n’au Jamais pu...      5\n",
       "2    livre parfait pour commencer à se connaître et...      5\n",
       "3    Si effectivement vous n’avez aucune connaissan...      4\n",
       "4    Alors ok il est vrai que je me suis reconnue d...      4\n",
       "..                                                 ...    ...\n",
       "379  Très bon livre. Simple et à la portée de tous....      5\n",
       "383  Ai eu que le temps de le parcourir, j'ai trouv...      5\n",
       "386  j'aime beaucoup cet ouvrage il apporte beaucou...      5\n",
       "388  J'ai beaucoup aimé ce livre et je le partage e...      5\n",
       "389  Pour ceux qui cherchent pourquoi ils sont sur ...      5\n",
       "\n",
       "[248 rows x 2 columns]"
      ]
     },
     "execution_count": 42,
     "metadata": {},
     "output_type": "execute_result"
    }
   ],
   "source": [
    "df_positif"
   ]
  },
  {
   "cell_type": "markdown",
   "metadata": {},
   "source": [
    "#### 4) Binairisation en 0 et 1 respectivement pour les commentaires négatifs et positifs"
   ]
  },
  {
   "cell_type": "code",
   "execution_count": 43,
   "metadata": {},
   "outputs": [
    {
     "name": "stderr",
     "output_type": "stream",
     "text": [
      "<ipython-input-43-f134cb15fd69>:1: SettingWithCopyWarning: \n",
      "A value is trying to be set on a copy of a slice from a DataFrame.\n",
      "Try using .loc[row_indexer,col_indexer] = value instead\n",
      "\n",
      "See the caveats in the documentation: https://pandas.pydata.org/pandas-docs/stable/user_guide/indexing.html#returning-a-view-versus-a-copy\n",
      "  df_negatif['label'] = 0\n"
     ]
    }
   ],
   "source": [
    "df_negatif['label'] = 0\n",
    "df_positif['label'] = 1"
   ]
  },
  {
   "cell_type": "code",
   "execution_count": 44,
   "metadata": {},
   "outputs": [
    {
     "data": {
      "text/plain": [
       "commentaire    0\n",
       "label          0\n",
       "dtype: int64"
      ]
     },
     "execution_count": 44,
     "metadata": {},
     "output_type": "execute_result"
    }
   ],
   "source": [
    "df_positif.isna().sum()"
   ]
  },
  {
   "cell_type": "code",
   "execution_count": 45,
   "metadata": {},
   "outputs": [
    {
     "data": {
      "text/html": [
       "<div>\n",
       "<style scoped>\n",
       "    .dataframe tbody tr th:only-of-type {\n",
       "        vertical-align: middle;\n",
       "    }\n",
       "\n",
       "    .dataframe tbody tr th {\n",
       "        vertical-align: top;\n",
       "    }\n",
       "\n",
       "    .dataframe thead th {\n",
       "        text-align: right;\n",
       "    }\n",
       "</style>\n",
       "<table border=\"1\" class=\"dataframe\">\n",
       "  <thead>\n",
       "    <tr style=\"text-align: right;\">\n",
       "      <th></th>\n",
       "      <th>commentaire</th>\n",
       "      <th>label</th>\n",
       "    </tr>\n",
       "  </thead>\n",
       "  <tbody>\n",
       "    <tr>\n",
       "      <th>0</th>\n",
       "      <td>Lise Bourbeau, l'auteur de ces Cinq blessures ...</td>\n",
       "      <td>1</td>\n",
       "    </tr>\n",
       "    <tr>\n",
       "      <th>1</th>\n",
       "      <td>Ce livre est une révélation. Je n’au Jamais pu...</td>\n",
       "      <td>1</td>\n",
       "    </tr>\n",
       "    <tr>\n",
       "      <th>2</th>\n",
       "      <td>livre parfait pour commencer à se connaître et...</td>\n",
       "      <td>1</td>\n",
       "    </tr>\n",
       "    <tr>\n",
       "      <th>3</th>\n",
       "      <td>Si effectivement vous n’avez aucune connaissan...</td>\n",
       "      <td>1</td>\n",
       "    </tr>\n",
       "    <tr>\n",
       "      <th>4</th>\n",
       "      <td>Alors ok il est vrai que je me suis reconnue d...</td>\n",
       "      <td>1</td>\n",
       "    </tr>\n",
       "    <tr>\n",
       "      <th>...</th>\n",
       "      <td>...</td>\n",
       "      <td>...</td>\n",
       "    </tr>\n",
       "    <tr>\n",
       "      <th>379</th>\n",
       "      <td>Très bon livre. Simple et à la portée de tous....</td>\n",
       "      <td>1</td>\n",
       "    </tr>\n",
       "    <tr>\n",
       "      <th>383</th>\n",
       "      <td>Ai eu que le temps de le parcourir, j'ai trouv...</td>\n",
       "      <td>1</td>\n",
       "    </tr>\n",
       "    <tr>\n",
       "      <th>386</th>\n",
       "      <td>j'aime beaucoup cet ouvrage il apporte beaucou...</td>\n",
       "      <td>1</td>\n",
       "    </tr>\n",
       "    <tr>\n",
       "      <th>388</th>\n",
       "      <td>J'ai beaucoup aimé ce livre et je le partage e...</td>\n",
       "      <td>1</td>\n",
       "    </tr>\n",
       "    <tr>\n",
       "      <th>389</th>\n",
       "      <td>Pour ceux qui cherchent pourquoi ils sont sur ...</td>\n",
       "      <td>1</td>\n",
       "    </tr>\n",
       "  </tbody>\n",
       "</table>\n",
       "<p>248 rows × 2 columns</p>\n",
       "</div>"
      ],
      "text/plain": [
       "                                           commentaire  label\n",
       "0    Lise Bourbeau, l'auteur de ces Cinq blessures ...      1\n",
       "1    Ce livre est une révélation. Je n’au Jamais pu...      1\n",
       "2    livre parfait pour commencer à se connaître et...      1\n",
       "3    Si effectivement vous n’avez aucune connaissan...      1\n",
       "4    Alors ok il est vrai que je me suis reconnue d...      1\n",
       "..                                                 ...    ...\n",
       "379  Très bon livre. Simple et à la portée de tous....      1\n",
       "383  Ai eu que le temps de le parcourir, j'ai trouv...      1\n",
       "386  j'aime beaucoup cet ouvrage il apporte beaucou...      1\n",
       "388  J'ai beaucoup aimé ce livre et je le partage e...      1\n",
       "389  Pour ceux qui cherchent pourquoi ils sont sur ...      1\n",
       "\n",
       "[248 rows x 2 columns]"
      ]
     },
     "execution_count": 45,
     "metadata": {},
     "output_type": "execute_result"
    }
   ],
   "source": [
    "df_positif"
   ]
  },
  {
   "cell_type": "code",
   "execution_count": 46,
   "metadata": {},
   "outputs": [
    {
     "data": {
      "text/html": [
       "<div>\n",
       "<style scoped>\n",
       "    .dataframe tbody tr th:only-of-type {\n",
       "        vertical-align: middle;\n",
       "    }\n",
       "\n",
       "    .dataframe tbody tr th {\n",
       "        vertical-align: top;\n",
       "    }\n",
       "\n",
       "    .dataframe thead th {\n",
       "        text-align: right;\n",
       "    }\n",
       "</style>\n",
       "<table border=\"1\" class=\"dataframe\">\n",
       "  <thead>\n",
       "    <tr style=\"text-align: right;\">\n",
       "      <th></th>\n",
       "      <th>commentaire</th>\n",
       "      <th>label</th>\n",
       "    </tr>\n",
       "  </thead>\n",
       "  <tbody>\n",
       "    <tr>\n",
       "      <th>0</th>\n",
       "      <td>Lise Bourbeau, l'auteur de ces Cinq blessures ...</td>\n",
       "      <td>1</td>\n",
       "    </tr>\n",
       "    <tr>\n",
       "      <th>1</th>\n",
       "      <td>Ce livre est une révélation. Je n’au Jamais pu...</td>\n",
       "      <td>1</td>\n",
       "    </tr>\n",
       "    <tr>\n",
       "      <th>2</th>\n",
       "      <td>livre parfait pour commencer à se connaître et...</td>\n",
       "      <td>1</td>\n",
       "    </tr>\n",
       "    <tr>\n",
       "      <th>3</th>\n",
       "      <td>Si effectivement vous n’avez aucune connaissan...</td>\n",
       "      <td>1</td>\n",
       "    </tr>\n",
       "    <tr>\n",
       "      <th>4</th>\n",
       "      <td>Alors ok il est vrai que je me suis reconnue d...</td>\n",
       "      <td>1</td>\n",
       "    </tr>\n",
       "    <tr>\n",
       "      <th>...</th>\n",
       "      <td>...</td>\n",
       "      <td>...</td>\n",
       "    </tr>\n",
       "    <tr>\n",
       "      <th>379</th>\n",
       "      <td>Très bon livre. Simple et à la portée de tous....</td>\n",
       "      <td>1</td>\n",
       "    </tr>\n",
       "    <tr>\n",
       "      <th>383</th>\n",
       "      <td>Ai eu que le temps de le parcourir, j'ai trouv...</td>\n",
       "      <td>1</td>\n",
       "    </tr>\n",
       "    <tr>\n",
       "      <th>386</th>\n",
       "      <td>j'aime beaucoup cet ouvrage il apporte beaucou...</td>\n",
       "      <td>1</td>\n",
       "    </tr>\n",
       "    <tr>\n",
       "      <th>388</th>\n",
       "      <td>J'ai beaucoup aimé ce livre et je le partage e...</td>\n",
       "      <td>1</td>\n",
       "    </tr>\n",
       "    <tr>\n",
       "      <th>389</th>\n",
       "      <td>Pour ceux qui cherchent pourquoi ils sont sur ...</td>\n",
       "      <td>1</td>\n",
       "    </tr>\n",
       "  </tbody>\n",
       "</table>\n",
       "<p>248 rows × 2 columns</p>\n",
       "</div>"
      ],
      "text/plain": [
       "                                           commentaire  label\n",
       "0    Lise Bourbeau, l'auteur de ces Cinq blessures ...      1\n",
       "1    Ce livre est une révélation. Je n’au Jamais pu...      1\n",
       "2    livre parfait pour commencer à se connaître et...      1\n",
       "3    Si effectivement vous n’avez aucune connaissan...      1\n",
       "4    Alors ok il est vrai que je me suis reconnue d...      1\n",
       "..                                                 ...    ...\n",
       "379  Très bon livre. Simple et à la portée de tous....      1\n",
       "383  Ai eu que le temps de le parcourir, j'ai trouv...      1\n",
       "386  j'aime beaucoup cet ouvrage il apporte beaucou...      1\n",
       "388  J'ai beaucoup aimé ce livre et je le partage e...      1\n",
       "389  Pour ceux qui cherchent pourquoi ils sont sur ...      1\n",
       "\n",
       "[248 rows x 2 columns]"
      ]
     },
     "execution_count": 46,
     "metadata": {},
     "output_type": "execute_result"
    }
   ],
   "source": [
    "df_positif"
   ]
  },
  {
   "cell_type": "markdown",
   "metadata": {},
   "source": [
    "#### Choix du minimum entre les tailles des datasets des commentaires négatifs et positifs "
   ]
  },
  {
   "cell_type": "code",
   "execution_count": 47,
   "metadata": {},
   "outputs": [],
   "source": [
    "m= min(len(df_positif), len(df_negatif))"
   ]
  },
  {
   "cell_type": "code",
   "execution_count": 49,
   "metadata": {},
   "outputs": [],
   "source": [
    "df = pd.concat([df_positif[0:m],df_negatif[0:m]], ignore_index=True)"
   ]
  },
  {
   "cell_type": "code",
   "execution_count": 51,
   "metadata": {},
   "outputs": [],
   "source": [
    "df.to_csv('livre_amazon_5_blessures.csv', index=False)"
   ]
  },
  {
   "cell_type": "markdown",
   "metadata": {},
   "source": [
    "###  Nettoyage des commentaires"
   ]
  },
  {
   "cell_type": "markdown",
   "metadata": {},
   "source": [
    "#### 5) Suppression des stops words dans les commentaires"
   ]
  },
  {
   "cell_type": "code",
   "execution_count": null,
   "metadata": {},
   "outputs": [],
   "source": [
    "!pip install -U spacy"
   ]
  },
  {
   "cell_type": "code",
   "execution_count": 54,
   "metadata": {},
   "outputs": [],
   "source": [
    "### Nous utilisons les stop words de spacy combinés avec des stops words personalisés\n",
    "\n",
    "from spacy.lang.fr.stop_words import STOP_WORDS as fr_stop\n",
    "from spacy.lang.en.stop_words import STOP_WORDS as en_stop\n",
    "with open(\"../stop-w_fr.txt\") as f:\n",
    "    s_w = list(set(unidecode(f.read()).split(\"\\n\")))\n",
    "    \n",
    "final_stopwords_list = list(set(list(fr_stop) + list(en_stop) + s_w))\n",
    "\n",
    "## Rassembler les stop_words sur un fichier text\n",
    "textfile = open(\"mes_stop_words.txt\", \"w\")\n",
    "for element in final_stopwords_list:\n",
    "    textfile.write(element + \"\\n\")\n",
    "textfile.close()"
   ]
  },
  {
   "cell_type": "markdown",
   "metadata": {},
   "source": [
    "#### Fonction de nettoyage et lemmatization"
   ]
  },
  {
   "cell_type": "code",
   "execution_count": 55,
   "metadata": {},
   "outputs": [],
   "source": [
    "def nettoyage_avec_lemmatizer(texte):\n",
    "    \"\"\"\n",
    "    input: commentaire à nettoyer\n",
    "    output: commentaire nettoyer et lemmatizer\n",
    "    \"\"\"\n",
    "    lem=pickle.load(open('lemmatize_fr.pickle','rb'))\n",
    "    lem['livre']='livre'\n",
    "    #Je charge la liste de stop words\n",
    "    with open('mes_stop_words.txt') as f:\n",
    "        s_w=list(set(f.read().split('\\n')))\n",
    "    \n",
    "    tmp=[]\n",
    "    # Normalisation : accents et minuscule\n",
    "    texte=unidecode(texte.lower())\n",
    "    #p='[a-z]{3,}'\n",
    "    p='[a-zA-Zéâûèàùîôêç\\-.!?:]{3,}'\n",
    "    for mot in re.findall(p,texte):\n",
    "        if mot in s_w:\n",
    "            continue\n",
    "        else:\n",
    "            try:\n",
    "                tmp.append(lem[mot])\n",
    "            except:\n",
    "                pass\n",
    "    return ' '.join(tmp)"
   ]
  },
  {
   "cell_type": "code",
   "execution_count": 56,
   "metadata": {},
   "outputs": [],
   "source": [
    "df['commentaire'] = df.commentaire.apply(nettoyage_avec_lemmatizer)"
   ]
  },
  {
   "cell_type": "markdown",
   "metadata": {},
   "source": [
    "#### SAUVEGARDER LE FICHIER CSV DES COMMENTAIRES NETTOYÉS"
   ]
  },
  {
   "cell_type": "code",
   "execution_count": 57,
   "metadata": {},
   "outputs": [],
   "source": [
    "df = df.sample(frac=1).reset_index(drop=True)"
   ]
  },
  {
   "cell_type": "code",
   "execution_count": 58,
   "metadata": {},
   "outputs": [],
   "source": [
    "df.to_csv('livre_amazon_5_blessures_ok.csv', index=False)"
   ]
  },
  {
   "cell_type": "markdown",
   "metadata": {},
   "source": [
    "#### Nous avons pû extraire les données, les commentaires du livre \"les cinq blessures qui empêchent d'etre soi\".\n",
    "#### Ces commentaires sont nettoyés et prêt à emploi, nous allons pourvuire avec la partie 2: la featurisation des textes. \n"
   ]
  },
  {
   "cell_type": "code",
   "execution_count": null,
   "metadata": {},
   "outputs": [],
   "source": []
  }
 ],
 "metadata": {
  "kernelspec": {
   "display_name": "Python 3",
   "language": "python",
   "name": "python3"
  },
  "language_info": {
   "codemirror_mode": {
    "name": "ipython",
    "version": 3
   },
   "file_extension": ".py",
   "mimetype": "text/x-python",
   "name": "python",
   "nbconvert_exporter": "python",
   "pygments_lexer": "ipython3",
   "version": "3.8.8"
  }
 },
 "nbformat": 4,
 "nbformat_minor": 4
}
